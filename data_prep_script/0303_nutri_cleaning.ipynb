{
 "cells": [
  {
   "cell_type": "code",
   "execution_count": 6,
   "metadata": {},
   "outputs": [],
   "source": [
    "import pandas as pd\n",
    "\n",
    "all_nutri = pd.read_csv(\"data/all_nutri_entry.csv\", sep='\\t')\n",
    "essential_nutri_alias = pd.read_csv(\"data/essential_nutrients_aliases.csv\")"
   ]
  },
  {
   "cell_type": "code",
   "execution_count": 11,
   "metadata": {},
   "outputs": [
    {
     "data": {
      "text/plain": [
       "'   NUTR_COMP_NAME                        ALIASES\\n0             b12                      Cobalamin\\n1               k                      Vitamin K\\n2               d                      Vitamin D\\n3        chromium                       Chromium\\n4          biotin         Vitamin B7 / Vitamin H\\n5          iodine                         Iodine\\n6        selenium                       Selenium\\n7          folate        Vitamin B9 / Folic Acid\\n8      molybdenum                     Molybdenum\\n9               a            Vitamin A / Retinol\\n10        thiamin                     Vitamin B1\\n11     riboflavin                     Vitamin B2\\n12             b6        Vitamin B6 / Pyridoxine\\n13       fluoride                       Fluoride\\n14         copper                         Copper\\n15   pantothenate  Vitamin B5 / Pantothenic Acid\\n16      manganese                      Manganese\\n17         niacin    Vitamin B3 / Nicotinic Acid\\n18              e         Vitamin E / Tocopherol\\n19           zinc                           Zinc\\n20           iron                           Iron\\n21              c      Vitamin C / Ascorbic Acid\\n22      magnesium                      Magnesium\\n23        calcium                        Calcium\\n24     phosphorus                     Phosphorus\\n25         sodium                         Sodium\\n26       chloride                       Chloride\\n27      potassium                      Potassium\\n28            fat                         Lipids\\n29        protein                       Proteins\\n30  carbohydrates        Sugars / Starch / Fiber'"
      ]
     },
     "execution_count": 11,
     "metadata": {},
     "output_type": "execute_result"
    }
   ],
   "source": [
    "essential_nutri_alias.to_string()"
   ]
  },
  {
   "cell_type": "code",
   "execution_count": 8,
   "metadata": {},
   "outputs": [
    {
     "data": {
      "text/html": [
       "<div>\n",
       "<style scoped>\n",
       "    .dataframe tbody tr th:only-of-type {\n",
       "        vertical-align: middle;\n",
       "    }\n",
       "\n",
       "    .dataframe tbody tr th {\n",
       "        vertical-align: top;\n",
       "    }\n",
       "\n",
       "    .dataframe thead th {\n",
       "        text-align: right;\n",
       "    }\n",
       "</style>\n",
       "<table border=\"1\" class=\"dataframe\">\n",
       "  <thead>\n",
       "    <tr style=\"text-align: right;\">\n",
       "      <th></th>\n",
       "      <th>UNIQ_NUTRIENTS_COMPOUNDS</th>\n",
       "    </tr>\n",
       "  </thead>\n",
       "  <tbody>\n",
       "    <tr>\n",
       "      <th>0</th>\n",
       "      <td>(-)-6-HYDROXY-MELLEIN</td>\n",
       "    </tr>\n",
       "    <tr>\n",
       "      <th>1</th>\n",
       "      <td>(-)-6-METHOXY-MELLEIN</td>\n",
       "    </tr>\n",
       "    <tr>\n",
       "      <th>2</th>\n",
       "      <td>(-)-ARCTIGENIN|ARCTIGENIN</td>\n",
       "    </tr>\n",
       "    <tr>\n",
       "      <th>3</th>\n",
       "      <td>(-)-CATECHIN</td>\n",
       "    </tr>\n",
       "    <tr>\n",
       "      <th>4</th>\n",
       "      <td>(-)-Epicatechin</td>\n",
       "    </tr>\n",
       "    <tr>\n",
       "      <th>...</th>\n",
       "      <td>...</td>\n",
       "    </tr>\n",
       "    <tr>\n",
       "      <th>4125</th>\n",
       "      <td>ZINC</td>\n",
       "    </tr>\n",
       "    <tr>\n",
       "      <th>4126</th>\n",
       "      <td>Zinc (Zn)</td>\n",
       "    </tr>\n",
       "    <tr>\n",
       "      <th>4127</th>\n",
       "      <td>Zinc, Zn</td>\n",
       "    </tr>\n",
       "    <tr>\n",
       "      <th>4128</th>\n",
       "      <td>ZIRCONIUM</td>\n",
       "    </tr>\n",
       "    <tr>\n",
       "      <th>4129</th>\n",
       "      <td>ZOSIMIN</td>\n",
       "    </tr>\n",
       "  </tbody>\n",
       "</table>\n",
       "<p>4130 rows × 1 columns</p>\n",
       "</div>"
      ],
      "text/plain": [
       "       UNIQ_NUTRIENTS_COMPOUNDS\n",
       "0         (-)-6-HYDROXY-MELLEIN\n",
       "1         (-)-6-METHOXY-MELLEIN\n",
       "2     (-)-ARCTIGENIN|ARCTIGENIN\n",
       "3                  (-)-CATECHIN\n",
       "4               (-)-Epicatechin\n",
       "...                         ...\n",
       "4125                       ZINC\n",
       "4126                  Zinc (Zn)\n",
       "4127                   Zinc, Zn\n",
       "4128                  ZIRCONIUM\n",
       "4129                    ZOSIMIN\n",
       "\n",
       "[4130 rows x 1 columns]"
      ]
     },
     "execution_count": 8,
     "metadata": {},
     "output_type": "execute_result"
    }
   ],
   "source": [
    "all_nutri"
   ]
  }
 ],
 "metadata": {
  "kernelspec": {
   "display_name": "binf310",
   "language": "python",
   "name": "python3"
  },
  "language_info": {
   "codemirror_mode": {
    "name": "ipython",
    "version": 3
   },
   "file_extension": ".py",
   "mimetype": "text/x-python",
   "name": "python",
   "nbconvert_exporter": "python",
   "pygments_lexer": "ipython3",
   "version": "3.11.4"
  }
 },
 "nbformat": 4,
 "nbformat_minor": 2
}
